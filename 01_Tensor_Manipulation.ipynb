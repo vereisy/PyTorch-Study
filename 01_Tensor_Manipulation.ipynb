{
  "nbformat": 4,
  "nbformat_minor": 0,
  "metadata": {
    "colab": {
      "name": "01.Tensor Manipulation.ipynb",
      "provenance": [],
      "collapsed_sections": []
    },
    "kernelspec": {
      "name": "python3",
      "display_name": "Python 3"
    },
    "language_info": {
      "name": "python"
    }
  },
  "cells": [
    {
      "cell_type": "markdown",
      "metadata": {
        "id": "aLwCBjrz91Sc"
      },
      "source": [
        "quote steveive8's Deep-Learning-Zero-To-All-2-PyTorch, Lab 1: Tensor Manipulation"
      ]
    },
    {
      "cell_type": "markdown",
      "metadata": {
        "id": "bEQoT-dE_LOS"
      },
      "source": [
        "## Import"
      ]
    },
    {
      "cell_type": "code",
      "metadata": {
        "id": "CpwzspxX9_TA"
      },
      "source": [
        "import numpy as np\n",
        "import torch"
      ],
      "execution_count": null,
      "outputs": []
    },
    {
      "cell_type": "markdown",
      "metadata": {
        "id": "hbEdN5UQ-Tc3"
      },
      "source": [
        "## Numpy"
      ]
    },
    {
      "cell_type": "code",
      "metadata": {
        "colab": {
          "base_uri": "https://localhost:8080/"
        },
        "id": "yuBnbSxj-W42",
        "outputId": "261cab2d-5ab3-4f39-9732-7f5359524153"
      },
      "source": [
        "# 1D array\n",
        "na = np.array([ 0., 1., 2., 3., 4., 5., 6. ])\n",
        "print(na)\n",
        "print(\"Rank of na :\", na.ndim)\n",
        "print(\"Shape of na :\", na.shape)\n",
        "\n",
        "print(\"na[0] na[1] na[2] =\", na[0], na[1], na[2])\n",
        "print(\"na[2:5] na[4:-1] =\", na[2:5], na[4:-1])\n",
        "print(\"na[:2] na[3:] =\", na[:2], na[3:])\n",
        "print()\n",
        "\n",
        "# 2D array\n",
        "li = np.array([[1.,2.,3.],[4.,5.,6.],[7.,8.,9.],[10.,11.,12.]])\n",
        "print(li)\n",
        "print(\"Rank of li :\", li.ndim)\n",
        "print(\"Shape of li :\", li.shape)\n"
      ],
      "execution_count": null,
      "outputs": [
        {
          "output_type": "stream",
          "text": [
            "[0. 1. 2. 3. 4. 5. 6.]\n",
            "Rank of na : 1\n",
            "Shape of na : (7,)\n",
            "na[0] na[1] na[2] = 0.0 1.0 2.0\n",
            "na[2:5] na[4:-1] = [2. 3. 4.] [4. 5.]\n",
            "na[:2] na[3:] = [0. 1.] [3. 4. 5. 6.]\n",
            "[[ 1.  2.  3.]\n",
            " [ 4.  5.  6.]\n",
            " [ 7.  8.  9.]\n",
            " [10. 11. 12.]]\n",
            "Rank of li : 2\n",
            "Shape of li : (4, 3)\n"
          ],
          "name": "stdout"
        }
      ]
    },
    {
      "cell_type": "markdown",
      "metadata": {
        "id": "hZgY3xnUJi9g"
      },
      "source": [
        "# PyTorch"
      ]
    },
    {
      "cell_type": "markdown",
      "metadata": {
        "id": "Gkb3PVMaJo9Z"
      },
      "source": [
        "## 1D Array with PyTorch"
      ]
    },
    {
      "cell_type": "code",
      "metadata": {
        "id": "exbbb8vzJCz4",
        "colab": {
          "base_uri": "https://localhost:8080/"
        },
        "outputId": "98991f11-d116-440d-bce6-c4f5cd69cfad"
      },
      "source": [
        "t = torch.FloatTensor([0.,1.,2.,3.,4.,5.,6.])\n",
        "print(t)"
      ],
      "execution_count": null,
      "outputs": [
        {
          "output_type": "stream",
          "text": [
            "tensor([0., 1., 2., 3., 4., 5., 6.])\n"
          ],
          "name": "stdout"
        }
      ]
    },
    {
      "cell_type": "markdown",
      "metadata": {
        "id": "17wyJmaWBX9l"
      },
      "source": [
        "##t.size() & t.shape\n",
        "- PyTorch에서는 t.size()는 tensor에서 전체 elementsdml 양(amount)을 알려준다...!"
      ]
    },
    {
      "cell_type": "code",
      "metadata": {
        "colab": {
          "base_uri": "https://localhost:8080/"
        },
        "id": "SJGGjWKfCiob",
        "outputId": "16c514fe-44bc-493d-ae7b-f02b64331d56"
      },
      "source": [
        "print('rank :',t.dim())\n",
        "print('Shape(using shape) :',t.shape)\n",
        "print('Shape(using size) :',t.size())\n",
        "print(\"We can check t's element using index number : t[0]\",t[0],\"t[1]\",t[1],\"t[-1]\",t[-1] )\n",
        "print('Slicing : t[2:5]',t[2:5],'t[:2]',t[:2],'t[3:]',t[3:])\n",
        "print('Size with dim : t.size(dim=0)',t.size(dim=0))"
      ],
      "execution_count": null,
      "outputs": [
        {
          "output_type": "stream",
          "text": [
            "rank : 1\n",
            "Shape(using shape) : torch.Size([7])\n",
            "Shape(using size) : torch.Size([7])\n",
            "We can check t's element using index number : t[0] tensor(0.) t[1] tensor(1.) t[-1] tensor(6.)\n",
            "Slicing : t[2:5] tensor([2., 3., 4.]) t[:2] tensor([0., 1.]) t[3:] tensor([3., 4., 5., 6.])\n",
            "Size with dim : t.size(dim=0) 7\n"
          ],
          "name": "stdout"
        }
      ]
    },
    {
      "cell_type": "markdown",
      "metadata": {
        "id": "MzEDVngyFWHf"
      },
      "source": [
        "## 2D Array with PyTorch"
      ]
    },
    {
      "cell_type": "code",
      "metadata": {
        "id": "VLt4kId4FDft",
        "colab": {
          "base_uri": "https://localhost:8080/"
        },
        "outputId": "5d8a7a55-5337-4d18-ce18-24f2940980e9"
      },
      "source": [
        "t = torch.FloatTensor([[1.,2.,3.,],\n",
        "                       [4.,5.,6.],\n",
        "                       [7.,8.,9.],\n",
        "                       [10.,11.,12.]])\n",
        "\n",
        "print(t)"
      ],
      "execution_count": null,
      "outputs": [
        {
          "output_type": "stream",
          "text": [
            "tensor([[ 1.,  2.,  3.],\n",
            "        [ 4.,  5.,  6.],\n",
            "        [ 7.,  8.,  9.],\n",
            "        [10., 11., 12.]])\n"
          ],
          "name": "stdout"
        }
      ]
    },
    {
      "cell_type": "code",
      "metadata": {
        "colab": {
          "base_uri": "https://localhost:8080/"
        },
        "id": "_95avuwGKSWd",
        "outputId": "d24f9e83-77ef-4441-eb6c-7250bdffebbd"
      },
      "source": [
        "print('Rank :',t.dim)\n",
        "print('Shape :',t.size())\n",
        "print('Slicing t[:, 2] =', t[:, 2])\n",
        "print('t[:, 2] size :',t[:,2].size())\n",
        "print(t[:, :-1])"
      ],
      "execution_count": null,
      "outputs": [
        {
          "output_type": "stream",
          "text": [
            "Rank : <built-in method dim of Tensor object at 0x7fc2fb251550>\n",
            "Shape : torch.Size([4, 3])\n",
            "Slicing t[:, 2] = tensor([ 3.,  6.,  9., 12.])\n",
            "t[:, 2] size : torch.Size([4])\n",
            "tensor([[ 1.,  2.],\n",
            "        [ 4.,  5.],\n",
            "        [ 7.,  8.],\n",
            "        [10., 11.]])\n"
          ],
          "name": "stdout"
        }
      ]
    },
    {
      "cell_type": "markdown",
      "metadata": {
        "id": "clpYSWYaMKbC"
      },
      "source": [
        "## Shape, Rank, Axis"
      ]
    },
    {
      "cell_type": "code",
      "metadata": {
        "id": "5gRQP7C6Lfc0"
      },
      "source": [
        "t = torch.FloatTensor([[[[1.,2.,3.,4.],\n",
        "                        [5.,6.,7.,8.],\n",
        "                        [9.,10.,11.,12.]],\n",
        "                       \n",
        "                       [[13.,14.,15.,16.],\n",
        "                        [17.,18.,19.,20.],\n",
        "                        [21.,22.,23.,24.]]\n",
        "                        ]])"
      ],
      "execution_count": null,
      "outputs": []
    },
    {
      "cell_type": "code",
      "metadata": {
        "colab": {
          "base_uri": "https://localhost:8080/"
        },
        "id": "L0wwnLpoM_1S",
        "outputId": "efb040c5-a8a7-4d9a-8784-e0b4339b5207"
      },
      "source": [
        "print(t)\n",
        "print('t.dim()',t.dim())\n",
        "print('t.size()',t.size())"
      ],
      "execution_count": null,
      "outputs": [
        {
          "output_type": "stream",
          "text": [
            "tensor([[[[ 1.,  2.,  3.,  4.],\n",
            "          [ 5.,  6.,  7.,  8.],\n",
            "          [ 9., 10., 11., 12.]],\n",
            "\n",
            "         [[13., 14., 15., 16.],\n",
            "          [17., 18., 19., 20.],\n",
            "          [21., 22., 23., 24.]]]])\n",
            "t.dim() 4\n",
            "t.size() torch.Size([1, 2, 3, 4])\n"
          ],
          "name": "stdout"
        }
      ]
    },
    {
      "cell_type": "markdown",
      "metadata": {
        "id": "i5hi5rlMNphn"
      },
      "source": [
        "## Broadcasting"
      ]
    },
    {
      "cell_type": "code",
      "metadata": {
        "colab": {
          "base_uri": "https://localhost:8080/"
        },
        "id": "0MC4RDtWNJyq",
        "outputId": "669afb9f-0f70-4f08-e98a-2f3b31df8bfe"
      },
      "source": [
        "# Same shape\n",
        "m1 = torch.FloatTensor([[5,5]])\n",
        "m2 = torch.FloatTensor([[8,8]])\n",
        "\n",
        "print('m1 + m2 =', m1+m2)"
      ],
      "execution_count": null,
      "outputs": [
        {
          "output_type": "stream",
          "text": [
            "m1 + m2 = tensor([[13., 13.]])\n"
          ],
          "name": "stdout"
        }
      ]
    },
    {
      "cell_type": "code",
      "metadata": {
        "colab": {
          "base_uri": "https://localhost:8080/"
        },
        "id": "oNrXdlxFOPrC",
        "outputId": "32bcca9d-0d73-4d7f-bfe5-56b8744ad339"
      },
      "source": [
        "# Vector + Scalar\n",
        "v1 = torch.FloatTensor([94, 92])\n",
        "s1 = torch.FloatTensor([2]) # 2 -> [[2],[2]]\n",
        "\n",
        "print('v1 + s1 =', v1+s1)"
      ],
      "execution_count": null,
      "outputs": [
        {
          "output_type": "stream",
          "text": [
            "v1 + s1 = tensor([96., 94.])\n"
          ],
          "name": "stdout"
        }
      ]
    },
    {
      "cell_type": "code",
      "metadata": {
        "colab": {
          "base_uri": "https://localhost:8080/"
        },
        "id": "o0ZvBWPYPAmI",
        "outputId": "05d4b5b2-100f-43ac-a69b-ee907b306c3f"
      },
      "source": [
        "# 1 * 2 Vector + 2 * 1 Vector\n",
        "v2 = torch.FloatTensor([[4,5]])\n",
        "v3 = torch.FloatTensor([[2],[1]])\n",
        "print('v2 + v3 =', v2+v3)"
      ],
      "execution_count": null,
      "outputs": [
        {
          "output_type": "stream",
          "text": [
            "v2 + v3 = tensor([[6., 7.],\n",
            "        [5., 6.]])\n"
          ],
          "name": "stdout"
        }
      ]
    },
    {
      "cell_type": "markdown",
      "metadata": {
        "id": "bLgV2upiQFkK"
      },
      "source": [
        "# Operations in PyTorch"
      ]
    },
    {
      "cell_type": "markdown",
      "metadata": {
        "id": "VCjSEg_BQGZy"
      },
      "source": [
        "## Multiplation(elementwise multiplication) Vs MatMul(Inner product == Dot product)"
      ]
    },
    {
      "cell_type": "code",
      "metadata": {
        "colab": {
          "base_uri": "https://localhost:8080/"
        },
        "id": "NC7YhRF9Pvx-",
        "outputId": "ceb855fe-b04f-4986-ff05-47aab1259e6a"
      },
      "source": [
        "print()\n",
        "print()\n",
        "print('Multiplation Vs MatMul')\n",
        "print()\n",
        "print()\n",
        "print(\"--------Mul--------\")\n",
        "m3 = torch.FloatTensor([[1,3],[2,4]])\n",
        "m4 = torch.FloatTensor([[5],[6]])\n",
        "print('Shape of Matrix 3:', m3.shape) \n",
        "print('Shape of Matrix 4:', m4.shape) \n",
        "print('m3 * m4 =') \n",
        "print(m3*m4) # broadcasting -> 2 * 2\n",
        "print('Mul; m3.mul(m4) = ')\n",
        "print(m3.mul(m4))\n",
        "print()\n",
        "print()\n",
        "print(\"-------MatMul-------\")\n",
        "m5 = torch.FloatTensor([[1,3],[2,4]]) \n",
        "m6 = torch.FloatTensor([[5],[6]])\n",
        "print('Shape of Matrix 5:', m5.shape) # 2 * 2\n",
        "print('Shape of Matrix 6:', m6.shape) # 2 * 1\n",
        "print('MatMul; m5.matmul(m6) = ')\n",
        "print(m5.matmul(m6))\n"
      ],
      "execution_count": null,
      "outputs": [
        {
          "output_type": "stream",
          "text": [
            "\n",
            "\n",
            "Multiplation Vs MatMul\n",
            "\n",
            "\n",
            "--------Mul--------\n",
            "Shape of Matrix 3: torch.Size([2, 2])\n",
            "Shape of Matrix 4: torch.Size([2, 1])\n",
            "m3 * m4 =\n",
            "tensor([[ 5., 15.],\n",
            "        [12., 24.]])\n",
            "Mul; m3.mul(m4) = \n",
            "tensor([[ 5., 15.],\n",
            "        [12., 24.]])\n",
            "\n",
            "\n",
            "-------MatMul-------\n",
            "Shape of Matrix 5: torch.Size([2, 2])\n",
            "Shape of Matrix 6: torch.Size([2, 1])\n",
            "MatMul; m5.matmul(m6) = \n",
            "tensor([[23.],\n",
            "        [34.]])\n"
          ],
          "name": "stdout"
        }
      ]
    },
    {
      "cell_type": "markdown",
      "metadata": {
        "id": "vZM5bWpgAMVU"
      },
      "source": [
        "## Mean"
      ]
    },
    {
      "cell_type": "code",
      "metadata": {
        "id": "8B-_PCe6-T4x",
        "colab": {
          "base_uri": "https://localhost:8080/"
        },
        "outputId": "695e4c53-9518-4f49-b68a-1356870cd09c"
      },
      "source": [
        "t = torch.FloatTensor([3,6])\n",
        "print('Mean :',t.mean())"
      ],
      "execution_count": null,
      "outputs": [
        {
          "output_type": "stream",
          "text": [
            "Mean : tensor(4.5000)\n"
          ],
          "name": "stdout"
        }
      ]
    },
    {
      "cell_type": "code",
      "metadata": {
        "colab": {
          "base_uri": "https://localhost:8080/"
        },
        "id": "YWKNJHy2DxzH",
        "outputId": "687cfa00-5824-4765-8324-fd2b6913e56e"
      },
      "source": [
        "# Can't use mean() on integers !\n",
        "t = torch.LongTensor([2, 7])\n",
        "\n",
        "try:\n",
        "  print('Mean :', t.mean())\n",
        "except Exception as exc:\n",
        "  print(exc)"
      ],
      "execution_count": null,
      "outputs": [
        {
          "output_type": "stream",
          "text": [
            "Can only calculate the mean of floating types. Got Long instead.\n"
          ],
          "name": "stdout"
        }
      ]
    },
    {
      "cell_type": "markdown",
      "metadata": {
        "id": "w1dpU96REbnA"
      },
      "source": [
        "You can also use t.mean for higher rank tensors to get mean of all elements, or mean by particular dimension."
      ]
    },
    {
      "cell_type": "code",
      "metadata": {
        "colab": {
          "base_uri": "https://localhost:8080/"
        },
        "id": "_AZ_fLxrEXXE",
        "outputId": "3524de0d-4fde-40fc-8d27-17982817d6b4"
      },
      "source": [
        "t = torch.FloatTensor([[1,2],[3,4]])\n",
        "print(t)"
      ],
      "execution_count": null,
      "outputs": [
        {
          "output_type": "stream",
          "text": [
            "tensor([[1., 2.],\n",
            "        [3., 4.]])\n"
          ],
          "name": "stdout"
        }
      ]
    },
    {
      "cell_type": "code",
      "metadata": {
        "colab": {
          "base_uri": "https://localhost:8080/"
        },
        "id": "dDKVFAQ7FFgn",
        "outputId": "400e4bfa-ca2c-41a5-d958-6c10cf6eaf30"
      },
      "source": [
        "print('t.mean() :', t.mean())\n",
        "print('t.mean(dim = 0) :', t.mean(dim=0))\n",
        "print('t.mean(dim = 1) :', t.mean(dim=1))\n",
        "print('t,mean(dim = -1) :', t.mean(dim=-1))"
      ],
      "execution_count": null,
      "outputs": [
        {
          "output_type": "stream",
          "text": [
            "t.mean() : tensor(2.5000)\n",
            "t.mean(dim = 0) : tensor([2., 3.])\n",
            "t.mean(dim = 1) : tensor([1.5000, 3.5000])\n",
            "t,mean(dim = -1) : tensor([1.5000, 3.5000])\n"
          ],
          "name": "stdout"
        }
      ]
    },
    {
      "cell_type": "markdown",
      "metadata": {
        "id": "He8vGrhUGopn"
      },
      "source": [
        "## Sum"
      ]
    },
    {
      "cell_type": "code",
      "metadata": {
        "colab": {
          "base_uri": "https://localhost:8080/"
        },
        "id": "mhufE6uvFxdM",
        "outputId": "4f795fd2-50a6-41e8-cf9f-775849081517"
      },
      "source": [
        "t = torch.FloatTensor([[1,5],[2,7]])\n",
        "print(t)"
      ],
      "execution_count": null,
      "outputs": [
        {
          "output_type": "stream",
          "text": [
            "tensor([[1., 5.],\n",
            "        [2., 7.]])\n"
          ],
          "name": "stdout"
        }
      ]
    },
    {
      "cell_type": "code",
      "metadata": {
        "colab": {
          "base_uri": "https://localhost:8080/"
        },
        "id": "NCsqLHT9WCNO",
        "outputId": "3aaef1ee-645f-41cc-c446-86ee03d479bb"
      },
      "source": [
        "print('t.sum() :')\n",
        "print(t.sum())\n",
        "print()\n",
        "print('t.sum(dim=0) :')\n",
        "print(t.sum(dim=0))\n",
        "print()\n",
        "print('t.sum(dim=1) :')\n",
        "print(t.sum(dim=1))\n",
        "print()\n",
        "print('t.sum(dim=-1)')\n",
        "print(t.sum(dim=-1))"
      ],
      "execution_count": null,
      "outputs": [
        {
          "output_type": "stream",
          "text": [
            "t.sum() :\n",
            "tensor(15.)\n",
            "\n",
            "t.sum(dim=0) :\n",
            "tensor([ 3., 12.])\n",
            "\n",
            "t.sum(dim=1) :\n",
            "tensor([6., 9.])\n",
            "\n",
            "t.sum(dim=-1)\n",
            "tensor([6., 9.])\n"
          ],
          "name": "stdout"
        }
      ]
    },
    {
      "cell_type": "markdown",
      "metadata": {
        "id": "XJ0OXfiSXjRl"
      },
      "source": [
        "## Max & Argmax"
      ]
    },
    {
      "cell_type": "code",
      "metadata": {
        "colab": {
          "base_uri": "https://localhost:8080/"
        },
        "id": "X-v9OLXJW1bL",
        "outputId": "a4abab05-eef4-49b7-e10d-0643cfdd9bbc"
      },
      "source": [
        "t = torch.FloatTensor([[2,6],[9,3]])\n",
        "print(t)"
      ],
      "execution_count": null,
      "outputs": [
        {
          "output_type": "stream",
          "text": [
            "tensor([[2., 6.],\n",
            "        [9., 3.]])\n"
          ],
          "name": "stdout"
        }
      ]
    },
    {
      "cell_type": "markdown",
      "metadata": {
        "id": "RL6VROrzX4wt"
      },
      "source": [
        "The max() operator returns done value if it is called without an argument."
      ]
    },
    {
      "cell_type": "code",
      "metadata": {
        "colab": {
          "base_uri": "https://localhost:8080/"
        },
        "id": "LMnQoo54YMsG",
        "outputId": "e55ed5c3-0206-40fa-c8e7-4529d6230d7e"
      },
      "source": [
        "print('t.max() :', t.max()) #Returns one value: max"
      ],
      "execution_count": null,
      "outputs": [
        {
          "output_type": "stream",
          "text": [
            "t.max() : tensor(9.)\n"
          ],
          "name": "stdout"
        }
      ]
    },
    {
      "cell_type": "markdown",
      "metadata": {
        "id": "tSwCb2TMYeyS"
      },
      "source": [
        "The max operatorreturn 2 values when called with dimension specified. The first values is the maximum value, and the second value is the argmax: the index of the element with maximum value."
      ]
    },
    {
      "cell_type": "code",
      "metadata": {
        "colab": {
          "base_uri": "https://localhost:8080/"
        },
        "id": "9DMoqhjjX3TY",
        "outputId": "b4bece01-fc20-4041-c725-ab92949b2d81"
      },
      "source": [
        "print('t.max(dim=0) :')\n",
        "print(t.max(dim=0)) #Returns two values : max and argmax\n",
        "print()\n",
        "print('Max :', t.max(dim=0)[0])\n",
        "print('Argmax :', t.max(dim=0)[1])"
      ],
      "execution_count": null,
      "outputs": [
        {
          "output_type": "stream",
          "text": [
            "t.max(dim=0) :\n",
            "torch.return_types.max(\n",
            "values=tensor([9., 6.]),\n",
            "indices=tensor([1, 0]))\n",
            "\n",
            "Max : tensor([9., 6.])\n",
            "Argmax : tensor([1, 0])\n"
          ],
          "name": "stdout"
        }
      ]
    },
    {
      "cell_type": "code",
      "metadata": {
        "colab": {
          "base_uri": "https://localhost:8080/"
        },
        "id": "ry30hG3aZ6Mu",
        "outputId": "69af0a10-2979-4de3-a565-584918ad4944"
      },
      "source": [
        "print('t.max(dim=1)')\n",
        "print(t.max(dim=1))\n",
        "print()\n",
        "print('t.max(dim=-1)')\n",
        "print(t.max(dim=-1))"
      ],
      "execution_count": null,
      "outputs": [
        {
          "output_type": "stream",
          "text": [
            "t.max(dim=1)\n",
            "torch.return_types.max(\n",
            "values=tensor([6., 9.]),\n",
            "indices=tensor([1, 0]))\n",
            "\n",
            "t.max(dim=-1)\n",
            "torch.return_types.max(\n",
            "values=tensor([6., 9.]),\n",
            "indices=tensor([1, 0]))\n"
          ],
          "name": "stdout"
        }
      ]
    },
    {
      "cell_type": "markdown",
      "metadata": {
        "id": "BoNsjtxebGmP"
      },
      "source": [
        "## View\n",
        "* view ➡️ Reshape"
      ]
    },
    {
      "cell_type": "code",
      "metadata": {
        "colab": {
          "base_uri": "https://localhost:8080/"
        },
        "id": "RU7aBmLhaWYx",
        "outputId": "ae8f44ae-49e4-4795-d6e4-1614a4de59be"
      },
      "source": [
        "t = np.array([[[0,1,2],\n",
        "               [3,4,5]],\n",
        "              \n",
        "              [[6,7,8],\n",
        "               [9,10,11]]])\n",
        "\n",
        "ft = torch.FloatTensor(t)\n",
        "print(ft.shape)"
      ],
      "execution_count": null,
      "outputs": [
        {
          "output_type": "stream",
          "text": [
            "torch.Size([2, 2, 3])\n"
          ],
          "name": "stdout"
        }
      ]
    },
    {
      "cell_type": "code",
      "metadata": {
        "colab": {
          "base_uri": "https://localhost:8080/"
        },
        "id": "6IecX2Wfdb_E",
        "outputId": "87a7b1d4-dfed-482d-f091-d0c43078dffd"
      },
      "source": [
        "print(ft.view([-1,3]))\n",
        "print(ft.view([-1,3]).shape)"
      ],
      "execution_count": null,
      "outputs": [
        {
          "output_type": "stream",
          "text": [
            "tensor([[ 0.,  1.,  2.],\n",
            "        [ 3.,  4.,  5.],\n",
            "        [ 6.,  7.,  8.],\n",
            "        [ 9., 10., 11.]])\n",
            "torch.Size([4, 3])\n"
          ],
          "name": "stdout"
        }
      ]
    },
    {
      "cell_type": "code",
      "metadata": {
        "colab": {
          "base_uri": "https://localhost:8080/"
        },
        "id": "GBHPMlBmeWnq",
        "outputId": "39b1500d-d55f-42ab-cf92-2a28536990c7"
      },
      "source": [
        "print(ft.view([-1,1,3]))\n",
        "print(ft.view([-1,1,3]).shape)"
      ],
      "execution_count": null,
      "outputs": [
        {
          "output_type": "stream",
          "text": [
            "tensor([[[ 0.,  1.,  2.]],\n",
            "\n",
            "        [[ 3.,  4.,  5.]],\n",
            "\n",
            "        [[ 6.,  7.,  8.]],\n",
            "\n",
            "        [[ 9., 10., 11.]]])\n",
            "torch.Size([4, 1, 3])\n"
          ],
          "name": "stdout"
        }
      ]
    },
    {
      "cell_type": "code",
      "metadata": {
        "colab": {
          "base_uri": "https://localhost:8080/"
        },
        "id": "as3HEVoQenqD",
        "outputId": "84270ab2-8f9c-4447-8c19-eb1430832c8f"
      },
      "source": [
        "print('ft.view([-1,1,3])')\n",
        "print(ft.view([-1,1,3]))\n",
        "print(ft.view([-1,1,3]).shape)"
      ],
      "execution_count": null,
      "outputs": [
        {
          "output_type": "stream",
          "text": [
            "ft.view([-1,1,3])\n",
            "tensor([[[ 0.,  1.,  2.]],\n",
            "\n",
            "        [[ 3.,  4.,  5.]],\n",
            "\n",
            "        [[ 6.,  7.,  8.]],\n",
            "\n",
            "        [[ 9., 10., 11.]]])\n",
            "torch.Size([4, 1, 3])\n"
          ],
          "name": "stdout"
        }
      ]
    },
    {
      "cell_type": "markdown",
      "metadata": {
        "id": "9PF9wx4lrthw"
      },
      "source": [
        "## Squeeze"
      ]
    },
    {
      "cell_type": "markdown",
      "metadata": {
        "id": "kebS-XkTrzbD"
      },
      "source": [
        "* tensor.squeeze(dim)\n",
        "\n",
        "* Removes the dimension where the size is 1 in a tensor\n",
        "* Argument gets the dimension of tensor which to be squeezed"
      ]
    },
    {
      "cell_type": "code",
      "metadata": {
        "colab": {
          "base_uri": "https://localhost:8080/"
        },
        "id": "uXPsznbxrwDv",
        "outputId": "ff1d7509-3d76-4151-87a4-29c436b7f598"
      },
      "source": [
        "ft = torch.FloatTensor([[0],[1],[2]])\n",
        "print(ft)\n",
        "print(ft.shape)"
      ],
      "execution_count": null,
      "outputs": [
        {
          "output_type": "stream",
          "text": [
            "tensor([[0.],\n",
            "        [1.],\n",
            "        [2.]])\n",
            "torch.Size([3, 1])\n"
          ],
          "name": "stdout"
        }
      ]
    },
    {
      "cell_type": "code",
      "metadata": {
        "colab": {
          "base_uri": "https://localhost:8080/"
        },
        "id": "WiQ0reQ2tzVD",
        "outputId": "6495de49-7de3-4865-fe1e-b02ff41cea1a"
      },
      "source": [
        "print(ft.squeeze())\n",
        "print(ft.squeeze().shape)"
      ],
      "execution_count": null,
      "outputs": [
        {
          "output_type": "stream",
          "text": [
            "tensor([0., 1., 2.])\n",
            "torch.Size([3])\n"
          ],
          "name": "stdout"
        }
      ]
    },
    {
      "cell_type": "markdown",
      "metadata": {
        "id": "B__xx7stuH27"
      },
      "source": [
        "## Unsqueeze "
      ]
    },
    {
      "cell_type": "markdown",
      "metadata": {
        "id": "0serqPr3uOZr"
      },
      "source": [
        "* tensor.unsqueeze(dim)\n",
        "\n",
        "* Add the dimension whaere the size is 1 in a tensor\n",
        "* Argument gets the dimension of tensor which to be unsqueezed"
      ]
    },
    {
      "cell_type": "code",
      "metadata": {
        "colab": {
          "base_uri": "https://localhost:8080/"
        },
        "id": "z6vaOKM2uODf",
        "outputId": "d66dd21b-a082-4c66-c097-613b871306e2"
      },
      "source": [
        "ft = torch.Tensor([0,1,2])\n",
        "print(ft)\n",
        "print(ft.shape)"
      ],
      "execution_count": null,
      "outputs": [
        {
          "output_type": "stream",
          "text": [
            "tensor([0., 1., 2.])\n",
            "torch.Size([3])\n"
          ],
          "name": "stdout"
        }
      ]
    },
    {
      "cell_type": "code",
      "metadata": {
        "colab": {
          "base_uri": "https://localhost:8080/"
        },
        "id": "vdS-9t5turi-",
        "outputId": "03606515-5c0d-4ab4-dcbd-67bddc884eb1"
      },
      "source": [
        "print(ft.unsqueeze(0))\n",
        "print(ft.unsqueeze(0).shape)"
      ],
      "execution_count": null,
      "outputs": [
        {
          "output_type": "stream",
          "text": [
            "tensor([[0., 1., 2.]])\n",
            "torch.Size([1, 3])\n"
          ],
          "name": "stdout"
        }
      ]
    },
    {
      "cell_type": "markdown",
      "metadata": {
        "id": "Kqf2CLIIvLdB"
      },
      "source": [
        "We can make same effect for the dimension with ft.view()"
      ]
    },
    {
      "cell_type": "code",
      "metadata": {
        "colab": {
          "base_uri": "https://localhost:8080/"
        },
        "id": "oxVJ6UfwvIKe",
        "outputId": "d019bf91-14a9-430c-c49f-cf235f0f1d96"
      },
      "source": [
        "print(ft.view(1,-1))\n",
        "print(ft.view(1,-1).shape)"
      ],
      "execution_count": null,
      "outputs": [
        {
          "output_type": "stream",
          "text": [
            "tensor([[0., 1., 2.]])\n",
            "torch.Size([1, 3])\n"
          ],
          "name": "stdout"
        }
      ]
    },
    {
      "cell_type": "code",
      "metadata": {
        "colab": {
          "base_uri": "https://localhost:8080/"
        },
        "id": "V2eWZBgmvjJ3",
        "outputId": "80c3f01b-d7f7-4460-fd65-587b696b2479"
      },
      "source": [
        "print(ft.unsqueeze(1))\n",
        "print(ft.unsqueeze(1).shape)"
      ],
      "execution_count": null,
      "outputs": [
        {
          "output_type": "stream",
          "text": [
            "tensor([[0.],\n",
            "        [1.],\n",
            "        [2.]])\n",
            "torch.Size([3, 1])\n"
          ],
          "name": "stdout"
        }
      ]
    },
    {
      "cell_type": "code",
      "metadata": {
        "colab": {
          "base_uri": "https://localhost:8080/"
        },
        "id": "vDx1H4NVvwKG",
        "outputId": "32c3b5af-ae07-4cfd-f547-7719435e4949"
      },
      "source": [
        "print(ft.unsqueeze(-1))\n",
        "print(ft.unsqueeze(-1).shape)"
      ],
      "execution_count": null,
      "outputs": [
        {
          "output_type": "stream",
          "text": [
            "tensor([[0.],\n",
            "        [1.],\n",
            "        [2.]])\n",
            "torch.Size([3, 1])\n"
          ],
          "name": "stdout"
        }
      ]
    },
    {
      "cell_type": "markdown",
      "metadata": {
        "id": "RXPBO3r8v-z5"
      },
      "source": [
        "## Scatter ( for one-hot encoding )"
      ]
    },
    {
      "cell_type": "markdown",
      "metadata": {
        "id": "11YUxqaAwJJz"
      },
      "source": [
        "* tensor.scatter_(dim, index, src)\n",
        "* Write all element by src in Tensor with indicies of index with the corresponding dimension"
      ]
    },
    {
      "cell_type": "code",
      "metadata": {
        "colab": {
          "base_uri": "https://localhost:8080/"
        },
        "id": "LG8yplcJwIoH",
        "outputId": "d6dc3552-678a-4d0a-fda1-cc6f1f546642"
      },
      "source": [
        "lt = torch.LongTensor([[0],[1],[2],[0]])\n",
        "print(lt)"
      ],
      "execution_count": null,
      "outputs": [
        {
          "output_type": "stream",
          "text": [
            "tensor([[0],\n",
            "        [1],\n",
            "        [2],\n",
            "        [0]])\n"
          ],
          "name": "stdout"
        }
      ]
    },
    {
      "cell_type": "code",
      "metadata": {
        "colab": {
          "base_uri": "https://localhost:8080/"
        },
        "id": "LRGY7dHtwkii",
        "outputId": "bb9b0e67-56dd-40a3-f3d0-6faf3a010615"
      },
      "source": [
        "onehot = torch.zeros(4,3) #batch size = 4, classes = 3\n",
        "onehot.scatter_(1,lt,1)\n",
        "print(onehot)"
      ],
      "execution_count": null,
      "outputs": [
        {
          "output_type": "stream",
          "text": [
            "tensor([[1., 0., 0.],\n",
            "        [0., 1., 0.],\n",
            "        [0., 0., 1.],\n",
            "        [1., 0., 0.]])\n"
          ],
          "name": "stdout"
        }
      ]
    },
    {
      "cell_type": "markdown",
      "metadata": {
        "id": "HD8vkp-sxvFm"
      },
      "source": [
        "## Casting"
      ]
    },
    {
      "cell_type": "code",
      "metadata": {
        "colab": {
          "base_uri": "https://localhost:8080/"
        },
        "id": "JBBgO7JRyXd2",
        "outputId": "5439c21f-06c1-4d7c-e0e8-1aff59cc4916"
      },
      "source": [
        "lt = torch.LongTensor([1,2,3,4])\n",
        "print(lt)"
      ],
      "execution_count": null,
      "outputs": [
        {
          "output_type": "stream",
          "text": [
            "tensor([1, 2, 3, 4])\n"
          ],
          "name": "stdout"
        }
      ]
    },
    {
      "cell_type": "code",
      "metadata": {
        "colab": {
          "base_uri": "https://localhost:8080/"
        },
        "id": "lkYkdKuFyg5o",
        "outputId": "ff2c9b1d-52f8-4c4d-80a9-a56188e37990"
      },
      "source": [
        "print(lt.float())"
      ],
      "execution_count": null,
      "outputs": [
        {
          "output_type": "stream",
          "text": [
            "tensor([1., 2., 3., 4.])\n"
          ],
          "name": "stdout"
        }
      ]
    },
    {
      "cell_type": "code",
      "metadata": {
        "colab": {
          "base_uri": "https://localhost:8080/"
        },
        "id": "lulnMaksylkX",
        "outputId": "9fdfacad-3c08-45df-e6da-c11fd3172131"
      },
      "source": [
        "bt = torch.ByteTensor([True, False, False, True])\n",
        "print(bt)"
      ],
      "execution_count": null,
      "outputs": [
        {
          "output_type": "stream",
          "text": [
            "tensor([1, 0, 0, 1], dtype=torch.uint8)\n"
          ],
          "name": "stdout"
        }
      ]
    },
    {
      "cell_type": "markdown",
      "metadata": {
        "id": "37N1s0Jsy3nb"
      },
      "source": [
        "## Concatenation"
      ]
    },
    {
      "cell_type": "code",
      "metadata": {
        "id": "vnjWnRWEy2DS"
      },
      "source": [
        "x = torch.FloatTensor([[1,2],[3,4]])\n",
        "y = torch.FloatTensor([[5,6],[7,8]])"
      ],
      "execution_count": null,
      "outputs": []
    },
    {
      "cell_type": "code",
      "metadata": {
        "colab": {
          "base_uri": "https://localhost:8080/"
        },
        "id": "LF9i_x8Uy-lj",
        "outputId": "50fa1ed8-7200-4c5a-a845-31a505e9e85d"
      },
      "source": [
        "print(torch.cat([x,y],dim=0))\n",
        "print(torch.cat([x,y],dim=1))"
      ],
      "execution_count": null,
      "outputs": [
        {
          "output_type": "stream",
          "text": [
            "tensor([[1., 2.],\n",
            "        [3., 4.],\n",
            "        [5., 6.],\n",
            "        [7., 8.]])\n",
            "tensor([[1., 2., 5., 6.],\n",
            "        [3., 4., 7., 8.]])\n"
          ],
          "name": "stdout"
        }
      ]
    },
    {
      "cell_type": "markdown",
      "metadata": {
        "id": "WbNliYTazfnt"
      },
      "source": [
        "## Stacking"
      ]
    },
    {
      "cell_type": "markdown",
      "metadata": {
        "id": "7bTFxHnSzfxb"
      },
      "source": [
        "* Creating dimension of number of elements in the list at the corresponding dimension of concatinated matrix"
      ]
    },
    {
      "cell_type": "code",
      "metadata": {
        "id": "Jl6TFP4-zefu"
      },
      "source": [
        "x = torch.FloatTensor([1,4]) #(2, )\n",
        "y = torch.FloatTensor([2,5])\n",
        "z = torch.FloatTensor([3,6])"
      ],
      "execution_count": null,
      "outputs": []
    },
    {
      "cell_type": "code",
      "metadata": {
        "colab": {
          "base_uri": "https://localhost:8080/"
        },
        "id": "dIorIAsk0Url",
        "outputId": "888a7bf3-ceb6-4ae1-d515-d0b44ca6bdfb"
      },
      "source": [
        "print(torch.stack([x,y,z]))\n",
        "print(torch.stack([x,y,z],dim=1))"
      ],
      "execution_count": null,
      "outputs": [
        {
          "output_type": "stream",
          "text": [
            "tensor([[1., 4.],\n",
            "        [2., 5.],\n",
            "        [3., 6.]])\n",
            "tensor([[1., 2., 3.],\n",
            "        [4., 5., 6.]])\n"
          ],
          "name": "stdout"
        }
      ]
    },
    {
      "cell_type": "code",
      "metadata": {
        "colab": {
          "base_uri": "https://localhost:8080/"
        },
        "id": "9RGGV4sR0lO0",
        "outputId": "4741cb70-d1f2-47fa-9f53-c683fc0e44ae"
      },
      "source": [
        "print(torch.cat([x.unsqueeze(0), y.unsqueeze(0),z.unsqueeze(0)],dim=0))\n",
        "print(torch.cat([x.unsqueeze(1),y.unsqueeze(1),z.unsqueeze(1)],dim=1))"
      ],
      "execution_count": null,
      "outputs": [
        {
          "output_type": "stream",
          "text": [
            "tensor([[1., 4.],\n",
            "        [2., 5.],\n",
            "        [3., 6.]])\n",
            "tensor([[1., 2., 3.],\n",
            "        [4., 5., 6.]])\n"
          ],
          "name": "stdout"
        }
      ]
    },
    {
      "cell_type": "markdown",
      "metadata": {
        "id": "XQVePiVp1dO_"
      },
      "source": [
        "## One & Zero Like"
      ]
    },
    {
      "cell_type": "code",
      "metadata": {
        "colab": {
          "base_uri": "https://localhost:8080/"
        },
        "id": "iO-PnoJ51iF2",
        "outputId": "d056d128-0bde-4390-8300-577de8b2e497"
      },
      "source": [
        "x = torch.FloatTensor([[0,1,2],[2,1,0]])\n",
        "print(x)"
      ],
      "execution_count": null,
      "outputs": [
        {
          "output_type": "stream",
          "text": [
            "tensor([[0., 1., 2.],\n",
            "        [2., 1., 0.]])\n"
          ],
          "name": "stdout"
        }
      ]
    },
    {
      "cell_type": "code",
      "metadata": {
        "colab": {
          "base_uri": "https://localhost:8080/"
        },
        "id": "9Ih53Fy61qyG",
        "outputId": "3946bd76-6909-4564-fe41-dfeac1eeb710"
      },
      "source": [
        "print(torch.ones_like(x))\n",
        "print(torch.zeros_like(x))"
      ],
      "execution_count": null,
      "outputs": [
        {
          "output_type": "stream",
          "text": [
            "tensor([[1., 1., 1.],\n",
            "        [1., 1., 1.]])\n",
            "tensor([[0., 0., 0.],\n",
            "        [0., 0., 0.]])\n"
          ],
          "name": "stdout"
        }
      ]
    },
    {
      "cell_type": "markdown",
      "metadata": {
        "id": "YO_jfHE814fV"
      },
      "source": [
        "## In-place Operation"
      ]
    },
    {
      "cell_type": "code",
      "metadata": {
        "id": "zNk_Ms_W13K5"
      },
      "source": [
        "x = torch.FloatTensor([[1,2],[3,4]])"
      ],
      "execution_count": null,
      "outputs": []
    },
    {
      "cell_type": "code",
      "metadata": {
        "colab": {
          "base_uri": "https://localhost:8080/"
        },
        "id": "YF7kPyLx2IJG",
        "outputId": "0c80c67a-ceb7-4e47-9c57-ee25c56662ad"
      },
      "source": [
        "print(x.mul(2.))\n",
        "print(x)\n",
        "print(x.mul_(2.))\n",
        "print(x)"
      ],
      "execution_count": null,
      "outputs": [
        {
          "output_type": "stream",
          "text": [
            "tensor([[2., 4.],\n",
            "        [6., 8.]])\n",
            "tensor([[1., 2.],\n",
            "        [3., 4.]])\n",
            "tensor([[2., 4.],\n",
            "        [6., 8.]])\n",
            "tensor([[2., 4.],\n",
            "        [6., 8.]])\n"
          ],
          "name": "stdout"
        }
      ]
    },
    {
      "cell_type": "markdown",
      "metadata": {
        "id": "Ez5XOARw2Uog"
      },
      "source": [
        "## Zip"
      ]
    },
    {
      "cell_type": "code",
      "metadata": {
        "colab": {
          "base_uri": "https://localhost:8080/"
        },
        "id": "DsMkEBpV2URD",
        "outputId": "c4f5f083-b6d3-4765-9228-2b8cdd7fa708"
      },
      "source": [
        "for x,y in zip([1,2,3],[4,5,6]):\n",
        "  print(x,y)"
      ],
      "execution_count": null,
      "outputs": [
        {
          "output_type": "stream",
          "text": [
            "1 4\n",
            "2 5\n",
            "3 6\n"
          ],
          "name": "stdout"
        }
      ]
    },
    {
      "cell_type": "code",
      "metadata": {
        "id": "CiTiMeaA2fT6"
      },
      "source": [
        "for x,y,z in zip([1,3,5],[2,4,6],[3,7,11]):\n",
        "  print(x,)"
      ],
      "execution_count": null,
      "outputs": []
    }
  ]
}